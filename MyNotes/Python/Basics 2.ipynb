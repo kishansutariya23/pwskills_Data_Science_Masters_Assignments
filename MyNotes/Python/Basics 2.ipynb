{
 "cells": [
  {
   "attachments": {},
   "cell_type": "markdown",
   "metadata": {},
   "source": [
    "# Topics covered \n",
    "\n",
    "#### Operators - Arithmetic, Bitwise, Comparison And Assignment Operators, Operator's Precedence And Associativity\n",
    "#### Conditions (If Else, If-Elif-Else), \n",
    "#### Loops (While, For)\n",
    "#### Break And Continue Statement And Range Function"
   ]
  },
  {
   "cell_type": "code",
   "execution_count": 1,
   "metadata": {},
   "outputs": [],
   "source": [
    "a=10  # at runtime compiler will understand the data type of variable ==> dynamic typing"
   ]
  },
  {
   "cell_type": "code",
   "execution_count": 2,
   "metadata": {},
   "outputs": [
    {
     "data": {
      "text/plain": [
       "str"
      ]
     },
     "execution_count": 2,
     "metadata": {},
     "output_type": "execute_result"
    }
   ],
   "source": [
    "a='k'\n",
    "type(a)"
   ]
  },
  {
   "attachments": {},
   "cell_type": "raw",
   "metadata": {},
   "source": [
    "-> in python by default the data-type will be string"
   ]
  },
  {
   "cell_type": "code",
   "execution_count": 4,
   "metadata": {},
   "outputs": [
    {
     "data": {
      "text/plain": [
       "23"
      ]
     },
     "execution_count": 4,
     "metadata": {},
     "output_type": "execute_result"
    }
   ],
   "source": [
    "int('23')"
   ]
  },
  {
   "cell_type": "code",
   "execution_count": 5,
   "metadata": {},
   "outputs": [
    {
     "data": {
      "text/plain": [
       "0"
      ]
     },
     "execution_count": 5,
     "metadata": {},
     "output_type": "execute_result"
    }
   ],
   "source": [
    "int()"
   ]
  },
  {
   "cell_type": "code",
   "execution_count": 6,
   "metadata": {},
   "outputs": [
    {
     "ename": "ValueError",
     "evalue": "invalid literal for int() with base 10: 'kii'",
     "output_type": "error",
     "traceback": [
      "\u001b[1;31m---------------------------------------------------------------------------\u001b[0m",
      "\u001b[1;31mValueError\u001b[0m                                Traceback (most recent call last)",
      "\u001b[1;32m~\\AppData\\Local\\Temp/ipykernel_1004/3064414279.py\u001b[0m in \u001b[0;36m<module>\u001b[1;34m\u001b[0m\n\u001b[1;32m----> 1\u001b[1;33m \u001b[0mint\u001b[0m\u001b[1;33m(\u001b[0m\u001b[1;34m'kii'\u001b[0m\u001b[1;33m)\u001b[0m\u001b[1;33m\u001b[0m\u001b[1;33m\u001b[0m\u001b[0m\n\u001b[0m",
      "\u001b[1;31mValueError\u001b[0m: invalid literal for int() with base 10: 'kii'"
     ]
    }
   ],
   "source": [
    "int('kii')"
   ]
  },
  {
   "cell_type": "code",
   "execution_count": 7,
   "metadata": {},
   "outputs": [],
   "source": [
    "# Print statements"
   ]
  },
  {
   "cell_type": "code",
   "execution_count": 8,
   "metadata": {},
   "outputs": [
    {
     "name": "stdout",
     "output_type": "stream",
     "text": [
      "\n"
     ]
    }
   ],
   "source": [
    "print()"
   ]
  },
  {
   "cell_type": "code",
   "execution_count": 11,
   "metadata": {},
   "outputs": [
    {
     "name": "stdout",
     "output_type": "stream",
     "text": [
      "ks23code.in\n",
      "kishansutariya23.in\n"
     ]
    }
   ],
   "source": [
    "print('ks23code.in')\n",
    "print(\"kishansutariya23.in\")"
   ]
  },
  {
   "cell_type": "code",
   "execution_count": 10,
   "metadata": {},
   "outputs": [
    {
     "name": "stdout",
     "output_type": "stream",
     "text": [
      "123\n"
     ]
    }
   ],
   "source": [
    "print(123)"
   ]
  },
  {
   "cell_type": "code",
   "execution_count": 15,
   "metadata": {},
   "outputs": [
    {
     "name": "stdout",
     "output_type": "stream",
     "text": [
      "My age is : 24\n",
      "My age is : 24\n",
      "My name is kishan and Age is 24 \n",
      "My name is kishan and Age is 24 \n",
      "My name is kishan and Age is 24 \n"
     ]
    }
   ],
   "source": [
    "age=24\n",
    "print('My age is :',age)\n",
    "print(f\"My age is : {age}\")   # if f is present then it will work as string formating\n",
    "\n",
    "\n",
    "name = 'kishan'\n",
    "print('My name is {} and Age is {} '.format(name,age))  #format way\n",
    "print('My name is {fname} and Age is {fage} '.format(fname=name,fage=age))  #format way with place holder\n",
    "print('My name is {fname} and Age is {fage} '.format(fage=age,fname=name))  #format way with place holder"
   ]
  },
  {
   "cell_type": "code",
   "execution_count": 16,
   "metadata": {},
   "outputs": [
    {
     "name": "stdout",
     "output_type": "stream",
     "text": [
      "My age is 24 and i have completed : my degree of ECE  with the name of Kishan\n"
     ]
    }
   ],
   "source": [
    "name = 'Kishan'\n",
    "age = 24\n",
    "degree = 'ECE'\n",
    "\n",
    "# 'My age is 32 and i have completed : my degree of ECE  with the name of kishan'\n",
    "print('My age is {} and i have completed : my degree of {}  with the name of {}'.format(age,degree,name))"
   ]
  },
  {
   "cell_type": "code",
   "execution_count": 17,
   "metadata": {},
   "outputs": [
    {
     "name": "stdout",
     "output_type": "stream",
     "text": [
      "My age is 24 and i have completed : my degree of ECE  with the name of Kishan\n"
     ]
    }
   ],
   "source": [
    "print(F'My age is {age} and i have completed : my degree of {degree}  with the name of {name}') "
   ]
  },
  {
   "cell_type": "code",
   "execution_count": null,
   "metadata": {},
   "outputs": [],
   "source": []
  },
  {
   "attachments": {},
   "cell_type": "markdown",
   "metadata": {},
   "source": [
    "## Control Flow\n",
    "\n",
    "### **Decision Making Statements**\n",
    "\n",
    "* It is kind of making decision during occurred situation of program execution and action can be taken according to specified condition\n",
    "* Structure of decision making evaluate several expression that provide True or False as a result\n",
    "* It is up to you to decide which type of action want to take and execute the statements based upon True and False\n",
    "\n",
    "**These are several of decision making which going to be discussed below:**\n",
    "\n",
    "1. **if**\n",
    "2. **if else**\n",
    "3. **if elif else**\n",
    "4. **nested if**\n",
    "5. **single statement suites**"
   ]
  },
  {
   "cell_type": "code",
   "execution_count": 19,
   "metadata": {},
   "outputs": [
    {
     "ename": "TypeError",
     "evalue": "'>=' not supported between instances of 'str' and 'int'",
     "output_type": "error",
     "traceback": [
      "\u001b[1;31m---------------------------------------------------------------------------\u001b[0m",
      "\u001b[1;31mTypeError\u001b[0m                                 Traceback (most recent call last)",
      "\u001b[1;32m~\\AppData\\Local\\Temp/ipykernel_1004/1383223501.py\u001b[0m in \u001b[0;36m<module>\u001b[1;34m\u001b[0m\n\u001b[0;32m      1\u001b[0m \u001b[0mage\u001b[0m\u001b[1;33m=\u001b[0m\u001b[0minput\u001b[0m\u001b[1;33m(\u001b[0m\u001b[1;34m'Enter the age :'\u001b[0m\u001b[1;33m)\u001b[0m\u001b[1;33m\u001b[0m\u001b[1;33m\u001b[0m\u001b[0m\n\u001b[1;32m----> 2\u001b[1;33m \u001b[1;32mif\u001b[0m \u001b[0mage\u001b[0m\u001b[1;33m>=\u001b[0m\u001b[1;36m18\u001b[0m\u001b[1;33m:\u001b[0m\u001b[1;33m\u001b[0m\u001b[1;33m\u001b[0m\u001b[0m\n\u001b[0m\u001b[0;32m      3\u001b[0m     \u001b[0mprint\u001b[0m\u001b[1;33m(\u001b[0m\u001b[1;34m\"You are eligible to VOTE🔥\"\u001b[0m\u001b[1;33m)\u001b[0m\u001b[1;33m\u001b[0m\u001b[1;33m\u001b[0m\u001b[0m\n",
      "\u001b[1;31mTypeError\u001b[0m: '>=' not supported between instances of 'str' and 'int'"
     ]
    }
   ],
   "source": [
    "age=input('Enter the age :')\n",
    "if age>=18:\n",
    "    print(\"You are eligible to VOTE🔥\")"
   ]
  },
  {
   "cell_type": "code",
   "execution_count": 20,
   "metadata": {},
   "outputs": [
    {
     "name": "stdout",
     "output_type": "stream",
     "text": [
      "You are eligible to VOTE🔥\n"
     ]
    }
   ],
   "source": [
    "age=int(input('Enter the age :'))\n",
    "if age>=18:\n",
    "    print(\"You are eligible to VOTE🔥\")"
   ]
  },
  {
   "cell_type": "code",
   "execution_count": 22,
   "metadata": {},
   "outputs": [
    {
     "name": "stdout",
     "output_type": "stream",
     "text": [
      "You are young blood🩸 \n"
     ]
    }
   ],
   "source": [
    "## Task\n",
    "### Take a input of age\n",
    "### check whether age>=18 and age<=45\n",
    "### display you are young blood\n",
    "\n",
    "\n",
    "\n",
    "age=int(input('Enter the age :'))   # give 24 for input prompt\n",
    "if age>=18 and age<=45:\n",
    "    print(\"You are young blood🩸 \")\n"
   ]
  },
  {
   "cell_type": "code",
   "execution_count": 23,
   "metadata": {},
   "outputs": [
    {
     "data": {
      "text/plain": [
       "True"
      ]
     },
     "execution_count": 23,
     "metadata": {},
     "output_type": "execute_result"
    }
   ],
   "source": [
    "24<=45"
   ]
  },
  {
   "cell_type": "code",
   "execution_count": 27,
   "metadata": {},
   "outputs": [
    {
     "name": "stdout",
     "output_type": "stream",
     "text": [
      "Thank you for your application \n",
      "we will let you know\n"
     ]
    }
   ],
   "source": [
    "## if else statement\n",
    "age=int(input('Enter the age :'))   # give 50 for input prompt\n",
    "if age>=18 and age<=45:\n",
    "    print(\"You are eligible to VOTE🔥\")\n",
    "else:\n",
    "    print('Thank you for your application \\nwe will let you know')"
   ]
  },
  {
   "cell_type": "code",
   "execution_count": 31,
   "metadata": {},
   "outputs": [
    {
     "name": "stdout",
     "output_type": "stream",
     "text": [
      "After discount the product price will be : 4000.0\n"
     ]
    }
   ],
   "source": [
    "## Task\n",
    "## shopping mall on 14feb\n",
    "## input product price\n",
    "## product>1000 rs ---> 20%off\n",
    "## print the product price after removing the discount\n",
    "## product<=1000 rs ---> 30%off\n",
    "## print the product price after removing the discount\n",
    "\n",
    "\n",
    "\n",
    "\n",
    "price = int(input('Enter the product price'))\n",
    "if price>1000:\n",
    "    print('After discount the product price will be :',price*0.8)\n",
    "    # print('After discount the product price will be :',price-(price*0.2))\n",
    "    # 100(original) - 20%(discount) =>80  (original after discount)\n",
    "else:\n",
    "    print('After discount the product price will be :',price*0.7)\n"
   ]
  },
  {
   "cell_type": "code",
   "execution_count": 30,
   "metadata": {},
   "outputs": [
    {
     "data": {
      "text/plain": [
       "1000"
      ]
     },
     "execution_count": 30,
     "metadata": {},
     "output_type": "execute_result"
    }
   ],
   "source": [
    "int((20/100)*5000)  # give 5000 in above"
   ]
  },
  {
   "cell_type": "code",
   "execution_count": 34,
   "metadata": {},
   "outputs": [
    {
     "name": "stdout",
     "output_type": "stream",
     "text": [
      "You will get additional gift\n",
      "After discount the product price will be :2099.2999999999997\n"
     ]
    }
   ],
   "source": [
    "## Task\n",
    "## shopping mall on 14feb\n",
    "## input product price\n",
    "## product>3000 rs ---> 20%off\n",
    "## print the product price after removing the discount\n",
    "## product>=2000 rs and product <=3000 ---> 30%off\n",
    "## print the product price after removing the discount\n",
    "## if price=2999 then additional gifts\n",
    "## product<=1000 rs and product <=2000 ---> 40%off\n",
    "## print the product price after removing the discount\n",
    "\n",
    "\n",
    "\n",
    "price = int(input('Enter the product price'))\n",
    "if price>3000:\n",
    "    if price==4000:\n",
    "        print('Congrs. you win GOA trip')\n",
    "    print('After discount the product price will be :',price*0.8) \n",
    "elif price>=2000 and price<=3000:\n",
    "    if price==2999:\n",
    "        print('You will get additional gift')\n",
    "    print(F'After discount the product price will be :{price*0.7}')\n",
    "elif price>=100 and price<2000:\n",
    "    print('After discount the product price will be :{}' .format(price*0.6))\n",
    "else:\n",
    "    print('Drink TEA')"
   ]
  },
  {
   "cell_type": "code",
   "execution_count": 35,
   "metadata": {},
   "outputs": [],
   "source": [
    "## we can use multi if statement for above like\n",
    "# if \n",
    "# if\n",
    "# if\n",
    "# if\n",
    "# but the thing is if condiction satisfied then also it will go for other if statements @time-complexity will be increase\n",
    "\n",
    "\n",
    "# but if you use if - elif - elif - else  --> if condiction satisfied then if will come out of loop/statement and time taken will be less"
   ]
  },
  {
   "cell_type": "code",
   "execution_count": 37,
   "metadata": {},
   "outputs": [
    {
     "name": "stdout",
     "output_type": "stream",
     "text": [
      "kishan\n"
     ]
    }
   ],
   "source": [
    "## single statement\n",
    "\n",
    "val= int(input('Enter the number'))\n",
    "if(val<=999):print('Value is less than equal to 999')\n",
    "else:print('kishan')"
   ]
  },
  {
   "cell_type": "code",
   "execution_count": null,
   "metadata": {},
   "outputs": [],
   "source": []
  }
 ],
 "metadata": {
  "kernelspec": {
   "display_name": "base",
   "language": "python",
   "name": "python3"
  },
  "language_info": {
   "codemirror_mode": {
    "name": "ipython",
    "version": 3
   },
   "file_extension": ".py",
   "mimetype": "text/x-python",
   "name": "python",
   "nbconvert_exporter": "python",
   "pygments_lexer": "ipython3",
   "version": "3.9.7"
  },
  "orig_nbformat": 4,
  "vscode": {
   "interpreter": {
    "hash": "ffed60cb809bbbce366a1418c00a7b3d9ae87f051b6bba236885f2a4aa2cee88"
   }
  }
 },
 "nbformat": 4,
 "nbformat_minor": 2
}
