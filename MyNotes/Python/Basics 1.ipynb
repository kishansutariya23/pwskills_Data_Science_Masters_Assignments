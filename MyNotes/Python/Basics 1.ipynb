{
 "cells": [
  {
   "cell_type": "markdown",
   "metadata": {},
   "source": [
    "# Topic discussed in the Live class were"
   ]
  },
  {
   "attachments": {},
   "cell_type": "markdown",
   "metadata": {},
   "source": [
    "1. Create Linkedin Profile and share your work and tag mentors and organization\n",
    "2. Create GitHub account and contribute to the Open-Source or share your work/Project \n",
    "3. Jupiter Working \n",
    "4. Python Basics "
   ]
  },
  {
   "attachments": {},
   "cell_type": "markdown",
   "metadata": {},
   "source": [
    "### Python Basics"
   ]
  },
  {
   "attachments": {},
   "cell_type": "markdown",
   "metadata": {},
   "source": [
    "#### 4.1 Comments \n",
    "\n",
    "\n",
    "There are 2 types of comments in Python\n",
    "\n",
    "i. single line comments\n",
    "\n",
    "ii. Multi line comments"
   ]
  },
  {
   "cell_type": "code",
   "execution_count": 2,
   "metadata": {},
   "outputs": [
    {
     "data": {
      "text/plain": [
       "'\\n1) It help other programer to understand your code interms of functionality of your code\\n2) it become easy to know which block of code performs what task by reading the comments\\n'"
      ]
     },
     "execution_count": 2,
     "metadata": {},
     "output_type": "execute_result"
    }
   ],
   "source": [
    "# If we use Hash(#) then its comment in python\n",
    "\n",
    "\n",
    "\"\"\"\n",
    "if any information is \n",
    "written in 3 QUOTES \n",
    "then it is called multi line comments\n",
    "\n",
    "\"\"\"\n",
    "\n",
    "\n",
    "\n",
    "## ADVANTAGES:-\n",
    "\n",
    "\"\"\"\n",
    "1) It help other programer to understand your code interms of functionality of your code\n",
    "2) it become easy to know which block of code performs what task by reading the comments\n",
    "\"\"\""
   ]
  },
  {
   "attachments": {},
   "cell_type": "markdown",
   "metadata": {},
   "source": [
    "##### 4.2 Variables"
   ]
  },
  {
   "cell_type": "code",
   "execution_count": 5,
   "metadata": {},
   "outputs": [],
   "source": [
    "# piece of information can be stored in computer memory with help of variable\n",
    "\n",
    "a=10\n",
    "b= 'Kishansutariya23'\n",
    "# a=> a is storing value of 10 in memory\n",
    "# b=> b is storing string value \n",
    "\n"
   ]
  },
  {
   "attachments": {},
   "cell_type": "markdown",
   "metadata": {},
   "source": [
    "##### 4.3 Methods \n",
    "\n",
    "1. 4.3.1 print()\n",
    "2. 4.3.2 type()"
   ]
  },
  {
   "cell_type": "code",
   "execution_count": 6,
   "metadata": {},
   "outputs": [
    {
     "data": {
      "text/plain": [
       "10"
      ]
     },
     "execution_count": 6,
     "metadata": {},
     "output_type": "execute_result"
    }
   ],
   "source": [
    "a"
   ]
  },
  {
   "cell_type": "code",
   "execution_count": 7,
   "metadata": {},
   "outputs": [
    {
     "name": "stdout",
     "output_type": "stream",
     "text": [
      "10\n"
     ]
    }
   ],
   "source": [
    "print(a)"
   ]
  },
  {
   "cell_type": "code",
   "execution_count": 8,
   "metadata": {},
   "outputs": [
    {
     "name": "stdout",
     "output_type": "stream",
     "text": [
      "Kishansutariya23\n"
     ]
    }
   ],
   "source": [
    "print(b)"
   ]
  },
  {
   "cell_type": "code",
   "execution_count": 9,
   "metadata": {},
   "outputs": [
    {
     "name": "stdout",
     "output_type": "stream",
     "text": [
      "10 Kishansutariya23\n"
     ]
    }
   ],
   "source": [
    "print(a,b)"
   ]
  },
  {
   "cell_type": "code",
   "execution_count": 10,
   "metadata": {},
   "outputs": [
    {
     "data": {
      "text/plain": [
       "int"
      ]
     },
     "execution_count": 10,
     "metadata": {},
     "output_type": "execute_result"
    }
   ],
   "source": [
    "type(a)"
   ]
  },
  {
   "cell_type": "code",
   "execution_count": 11,
   "metadata": {},
   "outputs": [
    {
     "data": {
      "text/plain": [
       "str"
      ]
     },
     "execution_count": 11,
     "metadata": {},
     "output_type": "execute_result"
    }
   ],
   "source": [
    "type(b)"
   ]
  },
  {
   "attachments": {},
   "cell_type": "markdown",
   "metadata": {},
   "source": [
    "##### 4.4 Type Casting"
   ]
  },
  {
   "cell_type": "code",
   "execution_count": 12,
   "metadata": {},
   "outputs": [
    {
     "name": "stdout",
     "output_type": "stream",
     "text": [
      "Type of a  <class 'str'>\n",
      "Type of b  <class 'int'>\n",
      "20\n"
     ]
    }
   ],
   "source": [
    "a='10' # a is storing value 10 but in form of string\n",
    "b=10\n",
    "\n",
    "print('Type of a ',type(a))\n",
    "print('Type of b ',type(b))\n",
    "\n",
    "print(int(a)+b)  # we are converting string into int\n",
    "# NOT all string can be converted in int \n",
    "# only base 10 string can be converted (value strings are only converted)"
   ]
  },
  {
   "cell_type": "code",
   "execution_count": null,
   "metadata": {},
   "outputs": [],
   "source": []
  }
 ],
 "metadata": {
  "kernelspec": {
   "display_name": "base",
   "language": "python",
   "name": "python3"
  },
  "language_info": {
   "codemirror_mode": {
    "name": "ipython",
    "version": 3
   },
   "file_extension": ".py",
   "mimetype": "text/x-python",
   "name": "python",
   "nbconvert_exporter": "python",
   "pygments_lexer": "ipython3",
   "version": "3.9.7"
  },
  "orig_nbformat": 4,
  "vscode": {
   "interpreter": {
    "hash": "ffed60cb809bbbce366a1418c00a7b3d9ae87f051b6bba236885f2a4aa2cee88"
   }
  }
 },
 "nbformat": 4,
 "nbformat_minor": 2
}
